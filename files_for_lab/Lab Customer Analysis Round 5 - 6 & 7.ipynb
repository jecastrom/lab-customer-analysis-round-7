{
 "cells": [
  {
   "cell_type": "markdown",
   "id": "0c3c2dae",
   "metadata": {},
   "source": [
    "#### <p style=\"text-align:right;\">Jorge Castro DAPT BER</p>\n",
    "\n",
    "<div class=\"alert alert-block alert-info\">\n",
    "\n",
    "\n",
    "\n",
    "# Lab (Customer Analysis Round 5 & 6)\n",
    "\n",
    "\n",
    "\n",
    "Jump to:\n",
    "* [Customer Analysis Round 5](#Customer-Analysis-Round-5)\n",
    "    * [Dealing with the data](#Dealing-with-the-data)\n",
    "    * [Processing Data (Further processing)](#Processing-Data-(Further-processing))\n",
    "    * [X-y split](#X-y-split)\n",
    "    * [Normalize (numerical)](#Normalize-(numerical))            \n",
    "    \n",
    "    \n",
    "* [Customer Analysis Round 6](#Customer-Analysis-Round-6)\n",
    "    * [Processing Data](#Processing-Data)    \n",
    "        * [One Hot/Label Encoding (categorical)](#One-Hot/Label-Encoding-(categorical))\n",
    "        * [Concat DataFrames](#Concat-DataFrames)\n",
    "    * [Linear Regression](#Linear-Regression)\n",
    "        * [Train-test split](#Train-test-split)\n",
    "        * [Apply linear regression](#Apply-linear-regression)\n",
    "    * [Model Validation](#Model-Validation)\n",
    "        * [Description : R2 / MSE / RMSE / MAE](#Description-:-R2-/-MSE-/-RMSE-/-MAE)              \n",
    "\n",
    "    \n",
    "* [Customer Analysis Round 7](#Customer-Analysis-Round-7)\n",
    "    * [Description:](#Description:)\n",
    "        * [Try to improve the linear regression model](#Try-to-improve-the-linear-regression-model) \n",
    "\n",
    "\n",
    "\n",
    "[<a href=\"#Jorge-Castro-DAPT-BER\">Back to Top</a>]\n",
    "\n",
    "</div>\n"
   ]
  },
  {
   "cell_type": "code",
   "execution_count": 80,
   "id": "7d0463eb",
   "metadata": {},
   "outputs": [
    {
     "name": "stdout",
     "output_type": "stream",
     "text": [
      "Enter hyperlink title:Try to improve the linear regression model\n"
     ]
    }
   ],
   "source": [
    "# Hyperlink Same notebook\n",
    "\n",
    "import pyperclip as pc\n",
    "link_title = input('Enter hyperlink title:')\n",
    "dashed_title = link_title.replace(\" \", \"-\")\n",
    "link = ('[{}](#{})'.format(link_title, dashed_title))\n",
    "pc.copy(link)"
   ]
  },
  {
   "cell_type": "raw",
   "id": "7874ed49",
   "metadata": {},
   "source": [
    "# Hyperlink to another notebook same folder\n",
    "\n",
    "import pyperclip as pc\n",
    "link_title = input('Enter hyperlink title:')\n",
    "external_notebook_name = input('Enter external notebook name:')\n",
    "dashed_title = link_title.replace(\" \", \"-\")\n",
    "link = ('[{}]({}.ipynb#{})'.format(link_title, external_notebook_name, dashed_title))\n",
    "pc.copy(link)"
   ]
  },
  {
   "cell_type": "code",
   "execution_count": 53,
   "id": "e24a524b",
   "metadata": {},
   "outputs": [],
   "source": [
    "import pandas as pd\n",
    "import numpy as np\n",
    "pd.set_option('display.max_columns', None)\n",
    "import warnings\n",
    "warnings.filterwarnings('ignore')\n",
    "import matplotlib.pyplot as plt\n",
    "import seaborn as sb\n",
    "from sklearn import linear_model\n",
    "from sklearn.metrics import mean_squared_error, r2_score\n",
    "import sweetviz as sv\n",
    "%matplotlib inline\n",
    "import math"
   ]
  },
  {
   "cell_type": "markdown",
   "id": "6bf5ead4",
   "metadata": {},
   "source": [
    "# Customer Analysis Round 5\n",
    "##### Dealing with the data\n",
    "[<a href=\"#Jorge-Castro-DAPT-BER\">Back to Top</a>]"
   ]
  },
  {
   "cell_type": "code",
   "execution_count": 54,
   "id": "91423338",
   "metadata": {},
   "outputs": [],
   "source": [
    "    # Reading csv file\n",
    "df = pd.read_csv('marketing_customer_analysis.csv')\n",
    "    \n",
    "    # Lower caseing headers\n",
    "df.columns = df.columns.str.lower()\n",
    "    \n",
    "    # Replacing spaces by underscores\n",
    "df.columns = df.columns.str.replace(' ', '_')\n",
    "    \n",
    "    # Dropping the column 'unnamed:_0' as it is a duplicate from the index\n",
    "df = df.drop('unnamed:_0', 1)\n",
    "    \n",
    "    # Dealing with null values:\n",
    "nulls_df = pd.DataFrame(round(df.isna().sum()/len(df)*100,2))\n",
    "nulls_df = nulls_df.reset_index()\n",
    "nulls_df.columns = ['header_name', '%_nulls']\n",
    "columns_drop = nulls_df[nulls_df['%_nulls'] > 50 ]['header_name']\n",
    "df1 = df.drop(columns_drop, axis = 1)\n",
    "df1.reset_index()\n",
    "df2 = df1.dropna(how='any')\n",
    "df2['effective_to_date_2']=pd.to_datetime(df.effective_to_date)\n",
    "df3 = df2.drop('effective_to_date', axis=1)\n",
    "    \n",
    "    # we extract the the month as another series:\n",
    "df3['month'] = pd.DatetimeIndex(df3['effective_to_date_2']).month"
   ]
  },
  {
   "cell_type": "code",
   "execution_count": 55,
   "id": "02199f28",
   "metadata": {},
   "outputs": [
    {
     "data": {
      "text/html": [
       "<div>\n",
       "<style scoped>\n",
       "    .dataframe tbody tr th:only-of-type {\n",
       "        vertical-align: middle;\n",
       "    }\n",
       "\n",
       "    .dataframe tbody tr th {\n",
       "        vertical-align: top;\n",
       "    }\n",
       "\n",
       "    .dataframe thead th {\n",
       "        text-align: right;\n",
       "    }\n",
       "</style>\n",
       "<table border=\"1\" class=\"dataframe\">\n",
       "  <thead>\n",
       "    <tr style=\"text-align: right;\">\n",
       "      <th></th>\n",
       "      <th>customer</th>\n",
       "      <th>state</th>\n",
       "      <th>customer_lifetime_value</th>\n",
       "      <th>response</th>\n",
       "      <th>coverage</th>\n",
       "      <th>education</th>\n",
       "      <th>employmentstatus</th>\n",
       "      <th>gender</th>\n",
       "      <th>income</th>\n",
       "      <th>location_code</th>\n",
       "      <th>marital_status</th>\n",
       "      <th>monthly_premium_auto</th>\n",
       "      <th>months_since_last_claim</th>\n",
       "      <th>months_since_policy_inception</th>\n",
       "      <th>number_of_open_complaints</th>\n",
       "      <th>number_of_policies</th>\n",
       "      <th>policy_type</th>\n",
       "      <th>policy</th>\n",
       "      <th>renew_offer_type</th>\n",
       "      <th>sales_channel</th>\n",
       "      <th>total_claim_amount</th>\n",
       "      <th>vehicle_class</th>\n",
       "      <th>vehicle_size</th>\n",
       "      <th>effective_to_date_2</th>\n",
       "      <th>month</th>\n",
       "    </tr>\n",
       "  </thead>\n",
       "  <tbody>\n",
       "    <tr>\n",
       "      <th>0</th>\n",
       "      <td>DK49336</td>\n",
       "      <td>Arizona</td>\n",
       "      <td>4809.216960</td>\n",
       "      <td>No</td>\n",
       "      <td>Basic</td>\n",
       "      <td>College</td>\n",
       "      <td>Employed</td>\n",
       "      <td>M</td>\n",
       "      <td>48029</td>\n",
       "      <td>Suburban</td>\n",
       "      <td>Married</td>\n",
       "      <td>61</td>\n",
       "      <td>7.0</td>\n",
       "      <td>52</td>\n",
       "      <td>0.0</td>\n",
       "      <td>9</td>\n",
       "      <td>Corporate Auto</td>\n",
       "      <td>Corporate L3</td>\n",
       "      <td>Offer3</td>\n",
       "      <td>Agent</td>\n",
       "      <td>292.800000</td>\n",
       "      <td>Four-Door Car</td>\n",
       "      <td>Medsize</td>\n",
       "      <td>2011-02-18</td>\n",
       "      <td>2</td>\n",
       "    </tr>\n",
       "    <tr>\n",
       "      <th>1</th>\n",
       "      <td>KX64629</td>\n",
       "      <td>California</td>\n",
       "      <td>2228.525238</td>\n",
       "      <td>No</td>\n",
       "      <td>Basic</td>\n",
       "      <td>College</td>\n",
       "      <td>Unemployed</td>\n",
       "      <td>F</td>\n",
       "      <td>0</td>\n",
       "      <td>Suburban</td>\n",
       "      <td>Single</td>\n",
       "      <td>64</td>\n",
       "      <td>3.0</td>\n",
       "      <td>26</td>\n",
       "      <td>0.0</td>\n",
       "      <td>1</td>\n",
       "      <td>Personal Auto</td>\n",
       "      <td>Personal L3</td>\n",
       "      <td>Offer4</td>\n",
       "      <td>Call Center</td>\n",
       "      <td>744.924331</td>\n",
       "      <td>Four-Door Car</td>\n",
       "      <td>Medsize</td>\n",
       "      <td>2011-01-18</td>\n",
       "      <td>1</td>\n",
       "    </tr>\n",
       "    <tr>\n",
       "      <th>2</th>\n",
       "      <td>LZ68649</td>\n",
       "      <td>Washington</td>\n",
       "      <td>14947.917300</td>\n",
       "      <td>No</td>\n",
       "      <td>Basic</td>\n",
       "      <td>Bachelor</td>\n",
       "      <td>Employed</td>\n",
       "      <td>M</td>\n",
       "      <td>22139</td>\n",
       "      <td>Suburban</td>\n",
       "      <td>Single</td>\n",
       "      <td>100</td>\n",
       "      <td>34.0</td>\n",
       "      <td>31</td>\n",
       "      <td>0.0</td>\n",
       "      <td>2</td>\n",
       "      <td>Personal Auto</td>\n",
       "      <td>Personal L3</td>\n",
       "      <td>Offer3</td>\n",
       "      <td>Call Center</td>\n",
       "      <td>480.000000</td>\n",
       "      <td>SUV</td>\n",
       "      <td>Medsize</td>\n",
       "      <td>2011-02-10</td>\n",
       "      <td>2</td>\n",
       "    </tr>\n",
       "    <tr>\n",
       "      <th>3</th>\n",
       "      <td>XL78013</td>\n",
       "      <td>Oregon</td>\n",
       "      <td>22332.439460</td>\n",
       "      <td>Yes</td>\n",
       "      <td>Extended</td>\n",
       "      <td>College</td>\n",
       "      <td>Employed</td>\n",
       "      <td>M</td>\n",
       "      <td>49078</td>\n",
       "      <td>Suburban</td>\n",
       "      <td>Single</td>\n",
       "      <td>97</td>\n",
       "      <td>10.0</td>\n",
       "      <td>3</td>\n",
       "      <td>0.0</td>\n",
       "      <td>2</td>\n",
       "      <td>Corporate Auto</td>\n",
       "      <td>Corporate L3</td>\n",
       "      <td>Offer2</td>\n",
       "      <td>Branch</td>\n",
       "      <td>484.013411</td>\n",
       "      <td>Four-Door Car</td>\n",
       "      <td>Medsize</td>\n",
       "      <td>2011-01-11</td>\n",
       "      <td>1</td>\n",
       "    </tr>\n",
       "    <tr>\n",
       "      <th>6</th>\n",
       "      <td>IW72280</td>\n",
       "      <td>California</td>\n",
       "      <td>5035.035257</td>\n",
       "      <td>No</td>\n",
       "      <td>Basic</td>\n",
       "      <td>Doctor</td>\n",
       "      <td>Employed</td>\n",
       "      <td>F</td>\n",
       "      <td>37405</td>\n",
       "      <td>Urban</td>\n",
       "      <td>Married</td>\n",
       "      <td>63</td>\n",
       "      <td>8.0</td>\n",
       "      <td>99</td>\n",
       "      <td>3.0</td>\n",
       "      <td>4</td>\n",
       "      <td>Corporate Auto</td>\n",
       "      <td>Corporate L2</td>\n",
       "      <td>Offer2</td>\n",
       "      <td>Branch</td>\n",
       "      <td>287.556107</td>\n",
       "      <td>Four-Door Car</td>\n",
       "      <td>Medsize</td>\n",
       "      <td>2011-02-14</td>\n",
       "      <td>2</td>\n",
       "    </tr>\n",
       "  </tbody>\n",
       "</table>\n",
       "</div>"
      ],
      "text/plain": [
       "  customer       state  customer_lifetime_value response  coverage education  \\\n",
       "0  DK49336     Arizona              4809.216960       No     Basic   College   \n",
       "1  KX64629  California              2228.525238       No     Basic   College   \n",
       "2  LZ68649  Washington             14947.917300       No     Basic  Bachelor   \n",
       "3  XL78013      Oregon             22332.439460      Yes  Extended   College   \n",
       "6  IW72280  California              5035.035257       No     Basic    Doctor   \n",
       "\n",
       "  employmentstatus gender  income location_code marital_status  \\\n",
       "0         Employed      M   48029      Suburban        Married   \n",
       "1       Unemployed      F       0      Suburban         Single   \n",
       "2         Employed      M   22139      Suburban         Single   \n",
       "3         Employed      M   49078      Suburban         Single   \n",
       "6         Employed      F   37405         Urban        Married   \n",
       "\n",
       "   monthly_premium_auto  months_since_last_claim  \\\n",
       "0                    61                      7.0   \n",
       "1                    64                      3.0   \n",
       "2                   100                     34.0   \n",
       "3                    97                     10.0   \n",
       "6                    63                      8.0   \n",
       "\n",
       "   months_since_policy_inception  number_of_open_complaints  \\\n",
       "0                             52                        0.0   \n",
       "1                             26                        0.0   \n",
       "2                             31                        0.0   \n",
       "3                              3                        0.0   \n",
       "6                             99                        3.0   \n",
       "\n",
       "   number_of_policies     policy_type        policy renew_offer_type  \\\n",
       "0                   9  Corporate Auto  Corporate L3           Offer3   \n",
       "1                   1   Personal Auto   Personal L3           Offer4   \n",
       "2                   2   Personal Auto   Personal L3           Offer3   \n",
       "3                   2  Corporate Auto  Corporate L3           Offer2   \n",
       "6                   4  Corporate Auto  Corporate L2           Offer2   \n",
       "\n",
       "  sales_channel  total_claim_amount  vehicle_class vehicle_size  \\\n",
       "0         Agent          292.800000  Four-Door Car      Medsize   \n",
       "1   Call Center          744.924331  Four-Door Car      Medsize   \n",
       "2   Call Center          480.000000            SUV      Medsize   \n",
       "3        Branch          484.013411  Four-Door Car      Medsize   \n",
       "6        Branch          287.556107  Four-Door Car      Medsize   \n",
       "\n",
       "  effective_to_date_2  month  \n",
       "0          2011-02-18      2  \n",
       "1          2011-01-18      1  \n",
       "2          2011-02-10      2  \n",
       "3          2011-01-11      1  \n",
       "6          2011-02-14      2  "
      ]
     },
     "execution_count": 55,
     "metadata": {},
     "output_type": "execute_result"
    }
   ],
   "source": [
    "df3.head()"
   ]
  },
  {
   "cell_type": "code",
   "execution_count": null,
   "id": "811b518b",
   "metadata": {},
   "outputs": [],
   "source": []
  },
  {
   "cell_type": "markdown",
   "id": "402b7d2c",
   "metadata": {},
   "source": [
    "##### Processing Data (Further processing)\n",
    "##### X-y split\n",
    "[<a href=\"#Jorge-Castro-DAPT-BER\">Back to Top</a>]"
   ]
  },
  {
   "cell_type": "code",
   "execution_count": 56,
   "id": "5cc80cd5",
   "metadata": {},
   "outputs": [],
   "source": [
    "# Spliting numerical data and categorical data\n",
    "\n",
    "x_num = df3.select_dtypes(include = np.number)\n",
    "x_cat = df3.select_dtypes(include = np.object)\n",
    "y_num = df3.select_dtypes(include = np.number)"
   ]
  },
  {
   "cell_type": "code",
   "execution_count": 57,
   "id": "00705939",
   "metadata": {},
   "outputs": [
    {
     "data": {
      "text/html": [
       "<div>\n",
       "<style scoped>\n",
       "    .dataframe tbody tr th:only-of-type {\n",
       "        vertical-align: middle;\n",
       "    }\n",
       "\n",
       "    .dataframe tbody tr th {\n",
       "        vertical-align: top;\n",
       "    }\n",
       "\n",
       "    .dataframe thead th {\n",
       "        text-align: right;\n",
       "    }\n",
       "</style>\n",
       "<table border=\"1\" class=\"dataframe\">\n",
       "  <thead>\n",
       "    <tr style=\"text-align: right;\">\n",
       "      <th></th>\n",
       "      <th>customer_lifetime_value</th>\n",
       "      <th>income</th>\n",
       "      <th>monthly_premium_auto</th>\n",
       "      <th>months_since_last_claim</th>\n",
       "      <th>months_since_policy_inception</th>\n",
       "      <th>number_of_open_complaints</th>\n",
       "      <th>number_of_policies</th>\n",
       "      <th>total_claim_amount</th>\n",
       "      <th>month</th>\n",
       "    </tr>\n",
       "  </thead>\n",
       "  <tbody>\n",
       "    <tr>\n",
       "      <th>0</th>\n",
       "      <td>4809.216960</td>\n",
       "      <td>48029</td>\n",
       "      <td>61</td>\n",
       "      <td>7.0</td>\n",
       "      <td>52</td>\n",
       "      <td>0.0</td>\n",
       "      <td>9</td>\n",
       "      <td>292.800000</td>\n",
       "      <td>2</td>\n",
       "    </tr>\n",
       "    <tr>\n",
       "      <th>1</th>\n",
       "      <td>2228.525238</td>\n",
       "      <td>0</td>\n",
       "      <td>64</td>\n",
       "      <td>3.0</td>\n",
       "      <td>26</td>\n",
       "      <td>0.0</td>\n",
       "      <td>1</td>\n",
       "      <td>744.924331</td>\n",
       "      <td>1</td>\n",
       "    </tr>\n",
       "    <tr>\n",
       "      <th>2</th>\n",
       "      <td>14947.917300</td>\n",
       "      <td>22139</td>\n",
       "      <td>100</td>\n",
       "      <td>34.0</td>\n",
       "      <td>31</td>\n",
       "      <td>0.0</td>\n",
       "      <td>2</td>\n",
       "      <td>480.000000</td>\n",
       "      <td>2</td>\n",
       "    </tr>\n",
       "    <tr>\n",
       "      <th>3</th>\n",
       "      <td>22332.439460</td>\n",
       "      <td>49078</td>\n",
       "      <td>97</td>\n",
       "      <td>10.0</td>\n",
       "      <td>3</td>\n",
       "      <td>0.0</td>\n",
       "      <td>2</td>\n",
       "      <td>484.013411</td>\n",
       "      <td>1</td>\n",
       "    </tr>\n",
       "    <tr>\n",
       "      <th>6</th>\n",
       "      <td>5035.035257</td>\n",
       "      <td>37405</td>\n",
       "      <td>63</td>\n",
       "      <td>8.0</td>\n",
       "      <td>99</td>\n",
       "      <td>3.0</td>\n",
       "      <td>4</td>\n",
       "      <td>287.556107</td>\n",
       "      <td>2</td>\n",
       "    </tr>\n",
       "  </tbody>\n",
       "</table>\n",
       "</div>"
      ],
      "text/plain": [
       "   customer_lifetime_value  income  monthly_premium_auto  \\\n",
       "0              4809.216960   48029                    61   \n",
       "1              2228.525238       0                    64   \n",
       "2             14947.917300   22139                   100   \n",
       "3             22332.439460   49078                    97   \n",
       "6              5035.035257   37405                    63   \n",
       "\n",
       "   months_since_last_claim  months_since_policy_inception  \\\n",
       "0                      7.0                             52   \n",
       "1                      3.0                             26   \n",
       "2                     34.0                             31   \n",
       "3                     10.0                              3   \n",
       "6                      8.0                             99   \n",
       "\n",
       "   number_of_open_complaints  number_of_policies  total_claim_amount  month  \n",
       "0                        0.0                   9          292.800000      2  \n",
       "1                        0.0                   1          744.924331      1  \n",
       "2                        0.0                   2          480.000000      2  \n",
       "3                        0.0                   2          484.013411      1  \n",
       "6                        3.0                   4          287.556107      2  "
      ]
     },
     "execution_count": 57,
     "metadata": {},
     "output_type": "execute_result"
    }
   ],
   "source": [
    "x_num.head()"
   ]
  },
  {
   "cell_type": "code",
   "execution_count": null,
   "id": "5edc5a4e",
   "metadata": {},
   "outputs": [],
   "source": []
  },
  {
   "cell_type": "markdown",
   "id": "acb5e2e4",
   "metadata": {},
   "source": [
    "##### Normalize (numerical)\n",
    "[<a href=\"#Jorge-Castro-DAPT-BER\">Back to Top</a>]"
   ]
  },
  {
   "cell_type": "code",
   "execution_count": 58,
   "id": "869f6219",
   "metadata": {},
   "outputs": [],
   "source": [
    "# Normalizing data (transforming values to a range between 0 and 1)\n",
    "\n",
    "from sklearn.preprocessing import Normalizer\n"
   ]
  },
  {
   "cell_type": "code",
   "execution_count": 59,
   "id": "f8fffec2",
   "metadata": {},
   "outputs": [
    {
     "name": "stdout",
     "output_type": "stream",
     "text": [
      "(9134, 9)\n"
     ]
    }
   ],
   "source": [
    "transformer = Normalizer().fit(x_num)\n",
    "x_normalized = transformer.transform(x_num)\n",
    "print(x_normalized.shape)"
   ]
  },
  {
   "cell_type": "code",
   "execution_count": 60,
   "id": "247cb409",
   "metadata": {},
   "outputs": [
    {
     "data": {
      "text/plain": [
       "<function matplotlib.pyplot.show(close=None, block=None)>"
      ]
     },
     "execution_count": 60,
     "metadata": {},
     "output_type": "execute_result"
    },
    {
     "data": {
      "image/png": "[encoded data removed]",
      "text/plain": [
       "<Figure size 402.375x360 with 1 Axes>"
      ]
     },
     "metadata": {
      "needs_background": "light"
     },
     "output_type": "display_data"
    }
   ],
   "source": [
    "sb.displot(x_normalized,bins = 100)\n",
    "plt.show"
   ]
  },
  {
   "cell_type": "markdown",
   "id": "5365756f",
   "metadata": {},
   "source": [
    "# Customer Analysis Round 6\n",
    "### Processing Data\n",
    "##### One Hot/Label Encoding (categorical)\n",
    "\n",
    "[<a href=\"#Jorge-Castro-DAPT-BER\">Back to Top</a>]"
   ]
  },
  {
   "cell_type": "code",
   "execution_count": 61,
   "id": "e4ba072f",
   "metadata": {},
   "outputs": [
    {
     "data": {
      "text/html": [
       "<div>\n",
       "<style scoped>\n",
       "    .dataframe tbody tr th:only-of-type {\n",
       "        vertical-align: middle;\n",
       "    }\n",
       "\n",
       "    .dataframe tbody tr th {\n",
       "        vertical-align: top;\n",
       "    }\n",
       "\n",
       "    .dataframe thead th {\n",
       "        text-align: right;\n",
       "    }\n",
       "</style>\n",
       "<table border=\"1\" class=\"dataframe\">\n",
       "  <thead>\n",
       "    <tr style=\"text-align: right;\">\n",
       "      <th></th>\n",
       "      <th>customer</th>\n",
       "      <th>state</th>\n",
       "      <th>response</th>\n",
       "      <th>coverage</th>\n",
       "      <th>education</th>\n",
       "      <th>employmentstatus</th>\n",
       "      <th>gender</th>\n",
       "      <th>location_code</th>\n",
       "      <th>marital_status</th>\n",
       "      <th>policy_type</th>\n",
       "      <th>policy</th>\n",
       "      <th>renew_offer_type</th>\n",
       "      <th>sales_channel</th>\n",
       "      <th>vehicle_class</th>\n",
       "      <th>vehicle_size</th>\n",
       "    </tr>\n",
       "  </thead>\n",
       "  <tbody>\n",
       "    <tr>\n",
       "      <th>0</th>\n",
       "      <td>DK49336</td>\n",
       "      <td>Arizona</td>\n",
       "      <td>No</td>\n",
       "      <td>Basic</td>\n",
       "      <td>College</td>\n",
       "      <td>Employed</td>\n",
       "      <td>M</td>\n",
       "      <td>Suburban</td>\n",
       "      <td>Married</td>\n",
       "      <td>Corporate Auto</td>\n",
       "      <td>Corporate L3</td>\n",
       "      <td>Offer3</td>\n",
       "      <td>Agent</td>\n",
       "      <td>Four-Door Car</td>\n",
       "      <td>Medsize</td>\n",
       "    </tr>\n",
       "    <tr>\n",
       "      <th>1</th>\n",
       "      <td>KX64629</td>\n",
       "      <td>California</td>\n",
       "      <td>No</td>\n",
       "      <td>Basic</td>\n",
       "      <td>College</td>\n",
       "      <td>Unemployed</td>\n",
       "      <td>F</td>\n",
       "      <td>Suburban</td>\n",
       "      <td>Single</td>\n",
       "      <td>Personal Auto</td>\n",
       "      <td>Personal L3</td>\n",
       "      <td>Offer4</td>\n",
       "      <td>Call Center</td>\n",
       "      <td>Four-Door Car</td>\n",
       "      <td>Medsize</td>\n",
       "    </tr>\n",
       "    <tr>\n",
       "      <th>2</th>\n",
       "      <td>LZ68649</td>\n",
       "      <td>Washington</td>\n",
       "      <td>No</td>\n",
       "      <td>Basic</td>\n",
       "      <td>Bachelor</td>\n",
       "      <td>Employed</td>\n",
       "      <td>M</td>\n",
       "      <td>Suburban</td>\n",
       "      <td>Single</td>\n",
       "      <td>Personal Auto</td>\n",
       "      <td>Personal L3</td>\n",
       "      <td>Offer3</td>\n",
       "      <td>Call Center</td>\n",
       "      <td>SUV</td>\n",
       "      <td>Medsize</td>\n",
       "    </tr>\n",
       "    <tr>\n",
       "      <th>3</th>\n",
       "      <td>XL78013</td>\n",
       "      <td>Oregon</td>\n",
       "      <td>Yes</td>\n",
       "      <td>Extended</td>\n",
       "      <td>College</td>\n",
       "      <td>Employed</td>\n",
       "      <td>M</td>\n",
       "      <td>Suburban</td>\n",
       "      <td>Single</td>\n",
       "      <td>Corporate Auto</td>\n",
       "      <td>Corporate L3</td>\n",
       "      <td>Offer2</td>\n",
       "      <td>Branch</td>\n",
       "      <td>Four-Door Car</td>\n",
       "      <td>Medsize</td>\n",
       "    </tr>\n",
       "    <tr>\n",
       "      <th>6</th>\n",
       "      <td>IW72280</td>\n",
       "      <td>California</td>\n",
       "      <td>No</td>\n",
       "      <td>Basic</td>\n",
       "      <td>Doctor</td>\n",
       "      <td>Employed</td>\n",
       "      <td>F</td>\n",
       "      <td>Urban</td>\n",
       "      <td>Married</td>\n",
       "      <td>Corporate Auto</td>\n",
       "      <td>Corporate L2</td>\n",
       "      <td>Offer2</td>\n",
       "      <td>Branch</td>\n",
       "      <td>Four-Door Car</td>\n",
       "      <td>Medsize</td>\n",
       "    </tr>\n",
       "  </tbody>\n",
       "</table>\n",
       "</div>"
      ],
      "text/plain": [
       "  customer       state response  coverage education employmentstatus gender  \\\n",
       "0  DK49336     Arizona       No     Basic   College         Employed      M   \n",
       "1  KX64629  California       No     Basic   College       Unemployed      F   \n",
       "2  LZ68649  Washington       No     Basic  Bachelor         Employed      M   \n",
       "3  XL78013      Oregon      Yes  Extended   College         Employed      M   \n",
       "6  IW72280  California       No     Basic    Doctor         Employed      F   \n",
       "\n",
       "  location_code marital_status     policy_type        policy renew_offer_type  \\\n",
       "0      Suburban        Married  Corporate Auto  Corporate L3           Offer3   \n",
       "1      Suburban         Single   Personal Auto   Personal L3           Offer4   \n",
       "2      Suburban         Single   Personal Auto   Personal L3           Offer3   \n",
       "3      Suburban         Single  Corporate Auto  Corporate L3           Offer2   \n",
       "6         Urban        Married  Corporate Auto  Corporate L2           Offer2   \n",
       "\n",
       "  sales_channel  vehicle_class vehicle_size  \n",
       "0         Agent  Four-Door Car      Medsize  \n",
       "1   Call Center  Four-Door Car      Medsize  \n",
       "2   Call Center            SUV      Medsize  \n",
       "3        Branch  Four-Door Car      Medsize  \n",
       "6        Branch  Four-Door Car      Medsize  "
      ]
     },
     "execution_count": 61,
     "metadata": {},
     "output_type": "execute_result"
    }
   ],
   "source": [
    "x_cat.head()"
   ]
  },
  {
   "cell_type": "code",
   "execution_count": 62,
   "id": "cdc4df53",
   "metadata": {},
   "outputs": [],
   "source": [
    "# Here we apply OneHotEncoder to translate categorical values into numbers\n",
    "\n",
    "import sklearn\n",
    "from sklearn.preprocessing import OneHotEncoder\n",
    "encoder = OneHotEncoder().fit(x_cat)\n",
    "encoded = encoder.transform(x_cat).toarray()"
   ]
  },
  {
   "cell_type": "code",
   "execution_count": 63,
   "id": "b9fd4f50",
   "metadata": {},
   "outputs": [
    {
     "data": {
      "text/plain": [
       "[array(['AA10041', 'AA11235', 'AA16582', ..., 'ZZ89380', 'ZZ91716',\n",
       "        'ZZ97035'], dtype=object),\n",
       " array(['Arizona', 'California', 'Nevada', 'Oregon', 'Washington'],\n",
       "       dtype=object),\n",
       " array(['No', 'Yes'], dtype=object),\n",
       " array(['Basic', 'Extended', 'Premium'], dtype=object),\n",
       " array(['Bachelor', 'College', 'Doctor', 'High School or Below', 'Master'],\n",
       "       dtype=object),\n",
       " array(['Disabled', 'Employed', 'Medical Leave', 'Retired', 'Unemployed'],\n",
       "       dtype=object),\n",
       " array(['F', 'M'], dtype=object),\n",
       " array(['Rural', 'Suburban', 'Urban'], dtype=object),\n",
       " array(['Divorced', 'Married', 'Single'], dtype=object),\n",
       " array(['Corporate Auto', 'Personal Auto', 'Special Auto'], dtype=object),\n",
       " array(['Corporate L1', 'Corporate L2', 'Corporate L3', 'Personal L1',\n",
       "        'Personal L2', 'Personal L3', 'Special L1', 'Special L2',\n",
       "        'Special L3'], dtype=object),\n",
       " array(['Offer1', 'Offer2', 'Offer3', 'Offer4'], dtype=object),\n",
       " array(['Agent', 'Branch', 'Call Center', 'Web'], dtype=object),\n",
       " array(['Four-Door Car', 'Luxury Car', 'Luxury SUV', 'SUV', 'Sports Car',\n",
       "        'Two-Door Car'], dtype=object),\n",
       " array(['Large', 'Medsize', 'Small'], dtype=object)]"
      ]
     },
     "execution_count": 63,
     "metadata": {},
     "output_type": "execute_result"
    }
   ],
   "source": [
    "encoder.categories_"
   ]
  },
  {
   "cell_type": "code",
   "execution_count": null,
   "id": "dd0d2732",
   "metadata": {},
   "outputs": [],
   "source": []
  },
  {
   "cell_type": "markdown",
   "id": "4f731554",
   "metadata": {},
   "source": [
    "##### Concat DataFrames\n",
    "[<a href=\"#Jorge-Castro-DAPT-BER\">Back to Top</a>]"
   ]
  },
  {
   "cell_type": "code",
   "execution_count": 64,
   "id": "8b367cc1",
   "metadata": {},
   "outputs": [],
   "source": [
    "x = np.concatenate((x_normalized, encoded), axis = 1)"
   ]
  },
  {
   "cell_type": "code",
   "execution_count": 65,
   "id": "dc6a4ad5",
   "metadata": {},
   "outputs": [
    {
     "data": {
      "text/plain": [
       "array([[0.09963132, 0.99500452, 0.00126372, ..., 0.        , 1.        ,\n",
       "        0.        ],\n",
       "       [0.94800653, 0.        , 0.02722537, ..., 0.        , 1.        ,\n",
       "        0.        ],\n",
       "       [0.55948303, 0.82863682, 0.00374288, ..., 0.        , 1.        ,\n",
       "        0.        ],\n",
       "       ...,\n",
       "       [0.08569715, 0.99631011, 0.00105911, ..., 0.        , 1.        ,\n",
       "        0.        ],\n",
       "       [0.51433231, 0.85753967, 0.00432677, ..., 0.        , 1.        ,\n",
       "        0.        ],\n",
       "       [0.18332425, 0.98300384, 0.00241942, ..., 0.        , 1.        ,\n",
       "        0.        ]])"
      ]
     },
     "execution_count": 65,
     "metadata": {},
     "output_type": "execute_result"
    }
   ],
   "source": [
    "x"
   ]
  },
  {
   "cell_type": "markdown",
   "id": "6c26bbe6",
   "metadata": {},
   "source": [
    "### Linear Regression\n",
    "##### Train-test split\n",
    "[<a href=\"#Jorge-Castro-DAPT-BER\">Back to Top</a>]"
   ]
  },
  {
   "cell_type": "code",
   "execution_count": 66,
   "id": "13ba5eae",
   "metadata": {},
   "outputs": [],
   "source": [
    "from sklearn.model_selection import train_test_split"
   ]
  },
  {
   "cell_type": "code",
   "execution_count": 67,
   "id": "2eb5e475",
   "metadata": {},
   "outputs": [],
   "source": [
    "y = y_num"
   ]
  },
  {
   "cell_type": "code",
   "execution_count": 68,
   "id": "e5d71caa",
   "metadata": {},
   "outputs": [],
   "source": [
    "x_train,x_test, y_train, y_test = train_test_split(x,y, test_size= 0.40, random_state=100)"
   ]
  },
  {
   "cell_type": "code",
   "execution_count": 69,
   "id": "d9c0963f",
   "metadata": {},
   "outputs": [
    {
     "data": {
      "text/plain": [
       "(5480, 9200)"
      ]
     },
     "execution_count": 69,
     "metadata": {},
     "output_type": "execute_result"
    }
   ],
   "source": [
    "x_train.shape"
   ]
  },
  {
   "cell_type": "markdown",
   "id": "e7973944",
   "metadata": {},
   "source": [
    "##### Apply linear regression\n",
    "[<a href=\"#Jorge-Castro-DAPT-BER\">Back to Top</a>]"
   ]
  },
  {
   "cell_type": "code",
   "execution_count": 70,
   "id": "7a98770f",
   "metadata": {},
   "outputs": [
    {
     "data": {
      "text/plain": [
       "0.3580461959388517"
      ]
     },
     "execution_count": 70,
     "metadata": {},
     "output_type": "execute_result"
    }
   ],
   "source": [
    "lm = linear_model.LinearRegression()\n",
    "model = lm.fit(x_train, y_train)\n",
    "predictions = lm.predict(x_test)\n",
    "r2_score(y_test, predictions)"
   ]
  },
  {
   "cell_type": "code",
   "execution_count": null,
   "id": "2e1d3df3",
   "metadata": {},
   "outputs": [],
   "source": []
  },
  {
   "cell_type": "code",
   "execution_count": null,
   "id": "670f769b",
   "metadata": {},
   "outputs": [],
   "source": []
  },
  {
   "cell_type": "markdown",
   "id": "2a5c31db",
   "metadata": {},
   "source": [
    "### Model Validation\n",
    "##### Description : R2 / MSE / RMSE / MAE\n",
    "[<a href=\"#Jorge-Castro-DAPT-BER\">Back to Top</a>]"
   ]
  },
  {
   "cell_type": "code",
   "execution_count": 71,
   "id": "66856e70",
   "metadata": {},
   "outputs": [
    {
     "name": "stdout",
     "output_type": "stream",
     "text": [
      "26853253.68175693\n"
     ]
    }
   ],
   "source": [
    "mse = mean_squared_error(y_test, predictions)\n",
    "print(mse)"
   ]
  },
  {
   "cell_type": "code",
   "execution_count": 72,
   "id": "a5fcaf59",
   "metadata": {},
   "outputs": [
    {
     "name": "stdout",
     "output_type": "stream",
     "text": [
      "5182.012512697835\n"
     ]
    }
   ],
   "source": [
    "rmse = math.sqrt(mse)\n",
    "print(rmse)"
   ]
  },
  {
   "cell_type": "code",
   "execution_count": 73,
   "id": "3c5c334e",
   "metadata": {},
   "outputs": [
    {
     "data": {
      "text/plain": [
       "0.3580461959388517"
      ]
     },
     "execution_count": 73,
     "metadata": {},
     "output_type": "execute_result"
    }
   ],
   "source": [
    "r2 = r2_score(y_test, predictions)\n",
    "r2"
   ]
  },
  {
   "cell_type": "code",
   "execution_count": 74,
   "id": "f582f1ab",
   "metadata": {},
   "outputs": [],
   "source": [
    "n = len(x_test) \n",
    "p = x_test.shape[1]"
   ]
  },
  {
   "cell_type": "code",
   "execution_count": 75,
   "id": "58fc738d",
   "metadata": {},
   "outputs": [
    {
     "data": {
      "text/plain": [
       "1.4227613568118578"
      ]
     },
     "execution_count": 75,
     "metadata": {},
     "output_type": "execute_result"
    }
   ],
   "source": [
    "adj_r2 = 1-((1-r2)*(n-1)/(n-p-1))\n",
    "adj_r2"
   ]
  },
  {
   "cell_type": "markdown",
   "id": "9b04a1c4",
   "metadata": {},
   "source": [
    "# Customer Analysis Round 7\n",
    "## Description:\n",
    "##### Try to improve the linear regression model.\n",
    "[<a href=\"#Jorge-Castro-DAPT-BER\">Back to Top</a>]"
   ]
  },
  {
   "cell_type": "code",
   "execution_count": 81,
   "id": "a1b0050a",
   "metadata": {},
   "outputs": [
    {
     "data": {
      "text/plain": [
       "0.3580461959388517"
      ]
     },
     "execution_count": 81,
     "metadata": {},
     "output_type": "execute_result"
    }
   ],
   "source": [
    "lm = linear_model.LinearRegression()\n",
    "model = lm.fit(x_train, y_train)\n",
    "predictions = lm.predict(x_test)\n",
    "r2_score(y_test, predictions)"
   ]
  },
  {
   "cell_type": "code",
   "execution_count": null,
   "id": "43f8a491",
   "metadata": {},
   "outputs": [],
   "source": []
  },
  {
   "cell_type": "markdown",
   "id": "0edd80a9",
   "metadata": {},
   "source": [
    "[<a href=\"#Jorge-Castro-DAPT-BER\">Back to Top</a>]"
   ]
  },
  {
   "cell_type": "code",
   "execution_count": null,
   "id": "94676420",
   "metadata": {},
   "outputs": [],
   "source": []
  },
  {
   "cell_type": "code",
   "execution_count": null,
   "id": "7220aa79",
   "metadata": {},
   "outputs": [],
   "source": []
  }
 ],
 "metadata": {
  "kernelspec": {
   "display_name": "Python 3 (ipykernel)",
   "language": "python",
   "name": "python3"
  },
  "language_info": {
   "codemirror_mode": {
    "name": "ipython",
    "version": 3
   },
   "file_extension": ".py",
   "mimetype": "text/x-python",
   "name": "python",
   "nbconvert_exporter": "python",
   "pygments_lexer": "ipython3",
   "version": "3.8.12"
  }
 },
 "nbformat": 4,
 "nbformat_minor": 5
}
